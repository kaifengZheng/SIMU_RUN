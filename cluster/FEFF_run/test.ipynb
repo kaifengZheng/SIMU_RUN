{
 "cells": [
  {
   "cell_type": "code",
   "execution_count": 3,
   "metadata": {},
   "outputs": [
    {
     "name": "stdout",
     "output_type": "stream",
     "text": [
      "Collecting pyarrow\n",
      "  Downloading pyarrow-9.0.0-cp37-cp37m-win_amd64.whl (19.5 MB)\n",
      "     --------------------------------------- 19.5/19.5 MB 19.3 MB/s eta 0:00:00\n",
      "Requirement already satisfied: numpy>=1.16.6 in c:\\users\\17608\\appdata\\local\\conda\\conda\\envs\\distortion\\lib\\site-packages (from pyarrow) (1.21.6)\n",
      "Installing collected packages: pyarrow\n",
      "Successfully installed pyarrow-9.0.0\n"
     ]
    }
   ],
   "source": [
    "!pip install pyarrow\n",
    "\n"
   ]
  },
  {
   "cell_type": "code",
   "execution_count": 1,
   "metadata": {},
   "outputs": [],
   "source": [
    "import pyarrow as pa\n",
    "import pandas as pd\n",
    "import numpy as np\n",
    "import json\n",
    "import pyarrow.parquet as pq"
   ]
  },
  {
   "cell_type": "code",
   "execution_count": 2,
   "metadata": {},
   "outputs": [],
   "source": [
    "df = pd.DataFrame(\n",
    "  { 'temp': [12.1, 11, 13, 10, 10],\n",
    "    'rain': [9.2, 10.0, 2.2, 0.2, 0.4] },\n",
    "    index=pd.DatetimeIndex(['2020-10-12',\n",
    "                            '2020-10-13',\n",
    "                            '2020-10-14',\n",
    "                            '2020-10-15',\n",
    "                            '2020-10-16'],\n",
    "                           name='date')\n",
    ")"
   ]
  },
  {
   "cell_type": "code",
   "execution_count": 3,
   "metadata": {},
   "outputs": [
    {
     "data": {
      "text/html": [
       "<div>\n",
       "<style scoped>\n",
       "    .dataframe tbody tr th:only-of-type {\n",
       "        vertical-align: middle;\n",
       "    }\n",
       "\n",
       "    .dataframe tbody tr th {\n",
       "        vertical-align: top;\n",
       "    }\n",
       "\n",
       "    .dataframe thead th {\n",
       "        text-align: right;\n",
       "    }\n",
       "</style>\n",
       "<table border=\"1\" class=\"dataframe\">\n",
       "  <thead>\n",
       "    <tr style=\"text-align: right;\">\n",
       "      <th></th>\n",
       "      <th>a</th>\n",
       "      <th>b</th>\n",
       "    </tr>\n",
       "  </thead>\n",
       "  <tbody>\n",
       "    <tr>\n",
       "      <th>0</th>\n",
       "      <td>1</td>\n",
       "      <td>2</td>\n",
       "    </tr>\n",
       "    <tr>\n",
       "      <th>1</th>\n",
       "      <td>2</td>\n",
       "      <td>3</td>\n",
       "    </tr>\n",
       "    <tr>\n",
       "      <th>2</th>\n",
       "      <td>3</td>\n",
       "      <td>4</td>\n",
       "    </tr>\n",
       "  </tbody>\n",
       "</table>\n",
       "</div>"
      ],
      "text/plain": [
       "   a  b\n",
       "0  1  2\n",
       "1  2  3\n",
       "2  3  4"
      ]
     },
     "execution_count": 3,
     "metadata": {},
     "output_type": "execute_result"
    }
   ],
   "source": [
    "a=dict({'a':[1,2,3],'b':[2,3,4]})\n",
    "a=pd.DataFrame(a)\n",
    "a.to_dict('index')\n",
    "a"
   ]
  },
  {
   "cell_type": "code",
   "execution_count": 40,
   "metadata": {},
   "outputs": [],
   "source": [
    "custom_meta_content = {\n",
    "    'user': 'Wáng Fān',\n",
    "    'coord': '55.9533° N, 3.1883° W',\n",
    "    'time': '2020-10-17T03:59:59+0000'  # ISO-8601\n",
    "}\n",
    "c=pd.DataFrame(custom_meta_content,index=[\"user\",\"coord\",\"time\"])"
   ]
  },
  {
   "cell_type": "code",
   "execution_count": 141,
   "metadata": {},
   "outputs": [],
   "source": [
    "custom_meta_key = 'weatherapp.iot'"
   ]
  },
  {
   "cell_type": "code",
   "execution_count": 86,
   "metadata": {},
   "outputs": [],
   "source": [
    "table = pa.Table.from_pandas(df)"
   ]
  },
  {
   "cell_type": "code",
   "execution_count": 87,
   "metadata": {},
   "outputs": [
    {
     "name": "stdout",
     "output_type": "stream",
     "text": [
      "{b'pandas': b'{\"index_columns\": [\"date\"], \"column_indexes\": [{\"name\": null, \"field_name\": null, \"pandas_type\": \"unicode\", \"numpy_type\": \"object\", \"metadata\": {\"encoding\": \"UTF-8\"}}], \"columns\": [{\"name\": \"temp\", \"field_name\": \"temp\", \"pandas_type\": \"float64\", \"numpy_type\": \"float64\", \"metadata\": null}, {\"name\": \"rain\", \"field_name\": \"rain\", \"pandas_type\": \"float64\", \"numpy_type\": \"float64\", \"metadata\": null}, {\"name\": \"date\", \"field_name\": \"date\", \"pandas_type\": \"datetime\", \"numpy_type\": \"datetime64[ns]\", \"metadata\": null}], \"creator\": {\"library\": \"pyarrow\", \"version\": \"9.0.0\"}, \"pandas_version\": \"1.3.4\"}'}\n"
     ]
    }
   ],
   "source": [
    "print(table.schema.metadata)"
   ]
  },
  {
   "cell_type": "code",
   "execution_count": 133,
   "metadata": {},
   "outputs": [
    {
     "data": {
      "text/plain": [
       "{'user': [1, 2, 3, 4, 5],\n",
       " 'coord': '55.9533° N, 3.1883° W',\n",
       " 'time': '200-10-17T03:59:59+0000'}"
      ]
     },
     "execution_count": 133,
     "metadata": {},
     "output_type": "execute_result"
    }
   ],
   "source": [
    "custom_meta_content2 = {\n",
    "    'user': np.array([1,2,3,4,5]).tolist(),\n",
    "    'coord': '55.9533° N, 3.1883° W',\n",
    "    'time': '200-10-17T03:59:59+0000'  # ISO-8601\n",
    "}\n",
    "custom_meta_json = json.dumps(custom_meta_content2)\n",
    "custom_meta_content2"
   ]
  },
  {
   "cell_type": "code",
   "execution_count": 88,
   "metadata": {},
   "outputs": [],
   "source": [
    "custom_meta_json = json.dumps(custom_meta_content2)\n",
    "existing_meta = table.schema.metadata\n",
    "combined_meta = {\n",
    "    custom_meta_key.encode() : df,\n",
    "    **existing_meta\n",
    "}"
   ]
  },
  {
   "cell_type": "code",
   "execution_count": 89,
   "metadata": {},
   "outputs": [
    {
     "ename": "TypeError",
     "evalue": "expected bytes, DataFrame found",
     "output_type": "error",
     "traceback": [
      "\u001b[1;31m---------------------------------------------------------------------------\u001b[0m",
      "\u001b[1;31mTypeError\u001b[0m                                 Traceback (most recent call last)",
      "\u001b[1;32m~\\AppData\\Local\\Temp\\ipykernel_11392\\1331335360.py\u001b[0m in \u001b[0;36m<module>\u001b[1;34m\u001b[0m\n\u001b[1;32m----> 1\u001b[1;33m \u001b[0mtable\u001b[0m \u001b[1;33m=\u001b[0m \u001b[0mtable\u001b[0m\u001b[1;33m.\u001b[0m\u001b[0mreplace_schema_metadata\u001b[0m\u001b[1;33m(\u001b[0m\u001b[0mcombined_meta\u001b[0m\u001b[1;33m)\u001b[0m\u001b[1;33m\u001b[0m\u001b[1;33m\u001b[0m\u001b[0m\n\u001b[0m",
      "\u001b[1;32mc:\\Users\\17608\\AppData\\Local\\conda\\conda\\envs\\distortion\\lib\\site-packages\\pyarrow\\table.pxi\u001b[0m in \u001b[0;36mpyarrow.lib.Table.replace_schema_metadata\u001b[1;34m()\u001b[0m\n",
      "\u001b[1;32mc:\\Users\\17608\\AppData\\Local\\conda\\conda\\envs\\distortion\\lib\\site-packages\\pyarrow\\types.pxi\u001b[0m in \u001b[0;36mpyarrow.lib.ensure_metadata\u001b[1;34m()\u001b[0m\n",
      "\u001b[1;32mc:\\Users\\17608\\AppData\\Local\\conda\\conda\\envs\\distortion\\lib\\site-packages\\pyarrow\\types.pxi\u001b[0m in \u001b[0;36mpyarrow.lib.KeyValueMetadata.__init__\u001b[1;34m()\u001b[0m\n",
      "\u001b[1;32mc:\\Users\\17608\\AppData\\Local\\conda\\conda\\envs\\distortion\\lib\\site-packages\\pyarrow\\lib.cp37-win_amd64.pyd\u001b[0m in \u001b[0;36mstring.from_py.__pyx_convert_string_from_py_std__in_string\u001b[1;34m()\u001b[0m\n",
      "\u001b[1;31mTypeError\u001b[0m: expected bytes, DataFrame found"
     ]
    }
   ],
   "source": [
    "table = table.replace_schema_metadata(combined_meta)"
   ]
  },
  {
   "cell_type": "code",
   "execution_count": 70,
   "metadata": {},
   "outputs": [
    {
     "name": "stdout",
     "output_type": "stream",
     "text": [
      "{b'weatherapp.iot': b'{\"user\": \"W\\\\u00e1ng F\\\\u0101n\", \"coord\": \"55.9533\\\\u00b0 N, 3.1883\\\\u00b0 W\", \"time\": \"2020-10-17T03:59:59+0000\"}', b'pandas': b'{\"index_columns\": [\"date\"], \"column_indexes\": [{\"name\": null, \"field_name\": null, \"pandas_type\": \"unicode\", \"numpy_type\": \"object\", \"metadata\": {\"encoding\": \"UTF-8\"}}], \"columns\": [{\"name\": \"temp\", \"field_name\": \"temp\", \"pandas_type\": \"float64\", \"numpy_type\": \"float64\", \"metadata\": null}, {\"name\": \"rain\", \"field_name\": \"rain\", \"pandas_type\": \"float64\", \"numpy_type\": \"float64\", \"metadata\": null}, {\"name\": \"date\", \"field_name\": \"date\", \"pandas_type\": \"datetime\", \"numpy_type\": \"datetime64[ns]\", \"metadata\": null}], \"creator\": {\"library\": \"pyarrow\", \"version\": \"9.0.0\"}, \"pandas_version\": \"1.3.4\"}'}\n"
     ]
    }
   ],
   "source": [
    "print(table.schema.metadata)"
   ]
  },
  {
   "cell_type": "code",
   "execution_count": 71,
   "metadata": {},
   "outputs": [],
   "source": [
    "pq.write_table(table, 'example.parquet', compression='GZIP')"
   ]
  },
  {
   "cell_type": "markdown",
   "metadata": {},
   "source": [
    "# read parquet"
   ]
  },
  {
   "cell_type": "code",
   "execution_count": 4,
   "metadata": {},
   "outputs": [],
   "source": [
    "restored_table = pq.read_table('spectrum.parquet')"
   ]
  },
  {
   "cell_type": "code",
   "execution_count": 5,
   "metadata": {},
   "outputs": [
    {
     "data": {
      "text/plain": [
       "pyarrow.Table\n",
       "E: double\n",
       "TOC013_total_mu: double\n",
       "HCN010_total_mu: double\n",
       "01_001_total_mu: double\n",
       "HCN028_total_mu: double\n",
       "02-005_total_mu: double\n",
       "TOC140_total_mu: double\n",
       "TOC038_total_mu: double\n",
       "03_005_total_mu: double\n",
       "22_021_total_mu: double\n",
       "HCN003_total_mu: double\n",
       "HCN015_total_mu: double\n",
       "HCN040_total_mu: double\n",
       "TOC079_total_mu: double\n",
       "COC013_total_mu: double\n",
       "HCN018_total_mu: double\n",
       "03-006_total_mu: double\n",
       "HCN006_total_mu: double\n",
       "CUBE00_total_mu: double\n",
       "HCO010_total_mu: double\n",
       "01-002_total_mu: double\n",
       "TOC225_total_mu: double\n",
       "----\n",
       "E: [[11559.2482487658,11559.3482487658,11559.4482487658,11559.548248765801,11559.648248765801,...,11621.748248766027,11621.848248766028,11621.948248766028,11622.048248766028,11622.148248766029]]\n",
       "TOC013_total_mu: [[0.24995968168727997,0.25501505454044665,0.26027082417783226,0.2657364314092692,0.27142131704459066,...,1.006728817475476,1.0061685372628868,1.0056024298628228,1.0050308492747662,1.004454149498199]]\n",
       "HCN010_total_mu: [[0.23467531207289669,0.23886442230850147,0.24321142417248692,0.24772470474697633,0.2524126511140928,...,0.9987638658005096,0.9985008622261462,0.9982329766150333,0.9979603651114521,0.9976831838596849]]\n",
       "01_001_total_mu: [[0.18939350114999998,0.19227381631726556,0.19525202984271298,0.1983338638727763,0.2015250405538895,...,1.0030457068147733,1.0028025123291147,1.0025522333775525,1.0022949862864758,1.0020308873822734]]\n",
       "HCN028_total_mu: [[0.2422149124345991,0.24696438206537955,0.25189657763743367,0.2570211222814666,0.26234763912818304,...,1.0066442372999436,1.0060519686200446,1.005454795783834,1.0048531344910028,1.0042474004412427]]\n",
       "02-005_total_mu: [[0.24941725469909257,0.25426024188158364,0.2592880589065928,0.26451069770309676,0.269938150200072,...,1.0040576995631691,1.0036154547148342,1.0031683071974764,1.0027165217718963,1.002260363198894]]\n",
       "TOC140_total_mu: [[0.23703823060207893,0.2417911443989636,0.24672665395598017,0.2518544336801959,0.2571841579786779,...,1.0108377663283918,1.0100016487266663,1.009168942039441,1.0083403515954616,1.0075165827234729]]\n",
       "TOC038_total_mu: [[0.23990461995009554,0.2447923838009051,0.24987317107098073,0.255156197893778,0.2606506804027524,...,1.0123073146629722,1.0114767297904304,1.0106421235635417,1.0098041298485796,1.008963382511819]]\n",
       "03_005_total_mu: [[0.2441739852876903,0.24896329523642038,0.25393500527256835,0.2590991140318403,0.2644656201499429,...,1.0096952121272589,1.0091180152489312,1.008537490696116,1.0079540572916663,1.0073681338584342]]\n",
       "22_021_total_mu: [[0.23261901268481994,0.23667561002678322,0.24088279408723015,0.24524879137310407,0.24978182839134852,...,0.9967756394938829,0.9964745805526791,0.9961680252184489,0.9958560939219476,0.9955389070939307]]\n",
       "..."
      ]
     },
     "execution_count": 5,
     "metadata": {},
     "output_type": "execute_result"
    }
   ],
   "source": [
    "restored_table"
   ]
  },
  {
   "cell_type": "code",
   "execution_count": 156,
   "metadata": {},
   "outputs": [
    {
     "name": "stdout",
     "output_type": "stream",
     "text": [
      "pyarrow.Table\n",
      "E: double\n",
      "05_007_total_mu: double\n",
      "E2: int32\n",
      "----\n",
      "E: [[11559.0985867686,11559.1985867686,11559.2985867686,11559.3985867686,11559.498586768601,...,11621.498586768826,11621.598586768827,11621.698586768827,11621.798586768828,11621.898586768828]]\n",
      "05_007_total_mu: [[0.24257464755470343,0.24721222729395864,0.2520269700027552,0.25702818961285184,0.262225200056007,...,1.0076905877942073,1.0071802307625788,1.0066644036616468,1.0061434355110233,1.0056176553303207]]\n",
      "E2: [[0,1,2,3,4,...,624,625,626,627,628]]\n"
     ]
    },
    {
     "data": {
      "text/plain": [
       "pyarrow.Table\n",
       "E: double\n",
       "05_007_total_mu: double\n",
       "E2: int32\n",
       "----\n",
       "E: [[11559.0985867686,11559.1985867686,11559.2985867686,11559.3985867686,11559.498586768601,...,11621.498586768826,11621.598586768827,11621.698586768827,11621.798586768828,11621.898586768828]]\n",
       "05_007_total_mu: [[0.24257464755470343,0.24721222729395864,0.2520269700027552,0.25702818961285184,0.262225200056007,...,1.0076905877942073,1.0071802307625788,1.0066644036616468,1.0061434355110233,1.0056176553303207]]\n",
       "E2: [[0,1,2,3,4,...,624,625,626,627,628]]"
      ]
     },
     "execution_count": 156,
     "metadata": {},
     "output_type": "execute_result"
    }
   ],
   "source": [
    "restored_table=restored_table.append_column('E2',pa.array(np.arange(0,a)))\n",
    "print(restored_table)\n",
    "custom_meta_json = json.dumps(custom_meta_content2)\n",
    "existing_meta = restored_table.schema.metadata\n",
    "combined_meta = {\n",
    "    custom_meta_key.encode() : custom_meta_json,\n",
    "    **existing_meta\n",
    "}\n",
    "table = restored_table.replace_schema_metadata(combined_meta)\n",
    "\n",
    "table"
   ]
  },
  {
   "cell_type": "code",
   "execution_count": 157,
   "metadata": {},
   "outputs": [],
   "source": [
    "pq.write_table(table, 'example.parquet', compression='GZIP')"
   ]
  },
  {
   "cell_type": "code",
   "execution_count": 158,
   "metadata": {},
   "outputs": [],
   "source": [
    "restored_table = pq.read_table('example.parquet')\n"
   ]
  },
  {
   "cell_type": "code",
   "execution_count": 159,
   "metadata": {},
   "outputs": [
    {
     "data": {
      "text/plain": [
       "pyarrow.Table\n",
       "E: double\n",
       "05_007_total_mu: double\n",
       "E2: int32\n",
       "----\n",
       "E: [[11559.0985867686,11559.1985867686,11559.2985867686,11559.3985867686,11559.498586768601,...,11621.498586768826,11621.598586768827,11621.698586768827,11621.798586768828,11621.898586768828]]\n",
       "05_007_total_mu: [[0.24257464755470343,0.24721222729395864,0.2520269700027552,0.25702818961285184,0.262225200056007,...,1.0076905877942073,1.0071802307625788,1.0066644036616468,1.0061434355110233,1.0056176553303207]]\n",
       "E2: [[0,1,2,3,4,...,624,625,626,627,628]]"
      ]
     },
     "execution_count": 159,
     "metadata": {},
     "output_type": "execute_result"
    }
   ],
   "source": [
    "restored_table"
   ]
  },
  {
   "cell_type": "code",
   "execution_count": 6,
   "metadata": {},
   "outputs": [
    {
     "name": "stdout",
     "output_type": "stream",
     "text": [
      "[b'TOC225', b'01-002', b'HCO010', b'CUBE00', b'HCN006', b'03-006', b'HCN018', b'COC013', b'TOC079', b'HCN040', b'HCN015', b'HCN003', b'22_021', b'03_005', b'TOC038', b'TOC140', b'02-005', b'HCN028', b'01_001', b'HCN010', b'TOC013', b'pandas']\n"
     ]
    }
   ],
   "source": [
    "h=list(restored_table.schema.metadata.keys())\n",
    "print(h)\n",
    "js=restored_table.schema.metadata[h[1]]\n",
    "restored_meta = json.loads(js)"
   ]
  },
  {
   "cell_type": "code",
   "execution_count": 188,
   "metadata": {},
   "outputs": [
    {
     "data": {
      "text/plain": [
       "dict_keys(['E', 'site_1_mu', 'site_2_mu', 'site_3_mu', 'site_5_mu', 'site_8_mu', 'site_9_mu', 'site_11_mu', 'site_20_mu', 'total_mu'])"
      ]
     },
     "execution_count": 188,
     "metadata": {},
     "output_type": "execute_result"
    }
   ],
   "source": [
    "restored_meta.keys()"
   ]
  },
  {
   "cell_type": "code",
   "execution_count": 15,
   "metadata": {},
   "outputs": [
    {
     "data": {
      "text/plain": [
       "array([1., 2., 3., 4., 5., 6.])"
      ]
     },
     "execution_count": 15,
     "metadata": {},
     "output_type": "execute_result"
    }
   ],
   "source": [
    "a=np.array([1,2,3,4,5,6])\n",
    "np.savetxt('a.ini',a,fmt='%.8f')\n",
    "np.loadtxt('a.ini')"
   ]
  },
  {
   "cell_type": "code",
   "execution_count": null,
   "metadata": {},
   "outputs": [],
   "source": []
  }
 ],
 "metadata": {
  "kernelspec": {
   "display_name": "Python 3.7.12 ('distortion')",
   "language": "python",
   "name": "python3"
  },
  "language_info": {
   "codemirror_mode": {
    "name": "ipython",
    "version": 3
   },
   "file_extension": ".py",
   "mimetype": "text/x-python",
   "name": "python",
   "nbconvert_exporter": "python",
   "pygments_lexer": "ipython3",
   "version": "3.7.12"
  },
  "orig_nbformat": 4,
  "vscode": {
   "interpreter": {
    "hash": "d7ee1316be1184c2cd4af776cdb6a5b8ab1502cf4f448e3416ecf364dccdb262"
   }
  }
 },
 "nbformat": 4,
 "nbformat_minor": 2
}
